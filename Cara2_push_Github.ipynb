{
 "cells": [
  {
   "cell_type": "markdown",
   "metadata": {},
   "source": [
    "# Cara Clone dan Push Repository ke Guthub dari Local\n",
    "\n",
    "## 1. Clone Repository\n",
    "\n",
    "Berikut Cara clone dari SSH:\n",
    "1. buka repository-nya\n",
    "2. Di bagian `<> Code` warna hijau, copy URL dari tab SSH\n",
    "3. Buka terminal di directory local dimana kalian akan clone repo\n",
    "4. Di terminal tulis `git clone <url yang di copy>`\n",
    "5. Akan terbuat folder hasil clone di directory-nya\n",
    "\n",
    "Setelah ada hasil clone, kita bekerja di folder repository tersebut.\n",
    "\n",
    "## 2. Add and Commit files\n",
    "Setelah ada perubahan file di folder repo yang ingin kita track perubahannya maka harus kita lakukan add dan commit caranya:\n",
    "1. Di terminal (pastikan directorynya sudah repository) cek status files dengan `git status`\n",
    "2. Jika ada perubahan dari file apapun akan diindikasikan dengan warna merah\n",
    "3. Untuk track perubahan lakukan `git add <nama file>` atau juka banyak bisa `git add .` untuk track semua perubahan pada semua file sekaligus.\n",
    "4. Kalau mau lihat status setelah di add harusnya warnanya hijau.\n",
    "5. Gunakan `git commit -m \"pesan commit\" untuk menandakan batch perubahan\n",
    "\n",
    "## 3. Push and Pull to github\n",
    "1. Setelah ada commit yang mau dimasukan ke github bisa lakukan `git push`\n",
    "2. Kalau kita menggunakan device yang berbeda dan ada clone di device masing-masing, sebelum mengerjakan apa-apa lakukan `git pull`"
   ]
  }
 ],
 "metadata": {
  "language_info": {
   "name": "python"
  }
 },
 "nbformat": 4,
 "nbformat_minor": 2
}
